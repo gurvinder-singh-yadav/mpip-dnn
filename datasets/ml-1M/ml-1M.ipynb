{
 "cells": [
  {
   "cell_type": "code",
   "execution_count": 1,
   "metadata": {},
   "outputs": [],
   "source": [
    "import pandas as pd\n",
    "import numpy as np\n",
    "import os\n",
    "import matplotlib.pyplot as plt\n",
    "import seaborn as sns\n",
    "import math\n",
    "from sklearn.metrics import pairwise_distances\n",
    "from scipy.spatial.distance import cosine\n",
    "from scipy.spatial import distance\n",
    "from scipy.stats import stats\n",
    "from sklearn.model_selection import train_test_split"
   ]
  },
  {
   "cell_type": "code",
   "execution_count": 2,
   "metadata": {},
   "outputs": [],
   "source": [
    "files = os.listdir()"
   ]
  },
  {
   "cell_type": "code",
   "execution_count": 3,
   "metadata": {},
   "outputs": [
    {
     "data": {
      "text/plain": [
       "['ml-1M.ipynb', 'ratings.dat']"
      ]
     },
     "execution_count": 3,
     "metadata": {},
     "output_type": "execute_result"
    }
   ],
   "source": [
    "files"
   ]
  },
  {
   "cell_type": "code",
   "execution_count": 9,
   "metadata": {},
   "outputs": [
    {
     "name": "stderr",
     "output_type": "stream",
     "text": [
      "C:\\Users\\gurvi\\anaconda3\\lib\\site-packages\\pandas\\util\\_decorators.py:311: ParserWarning: Falling back to the 'python' engine because the 'c' engine does not support regex separators (separators > 1 char and different from '\\s+' are interpreted as regex); you can avoid this warning by specifying engine='python'.\n",
      "  return func(*args, **kwargs)\n"
     ]
    }
   ],
   "source": [
    "data = pd.read_csv(files[1],delimiter=\"::\").to_numpy()"
   ]
  },
  {
   "cell_type": "code",
   "execution_count": 10,
   "metadata": {},
   "outputs": [],
   "source": [
    "trX,tX,trY,tY = train_test_split(data[:,:2],data[:,2])"
   ]
  },
  {
   "cell_type": "code",
   "execution_count": 12,
   "metadata": {},
   "outputs": [],
   "source": [
    "users = np.max(data[:,0])\n",
    "items = np.max(data[:,1])"
   ]
  },
  {
   "cell_type": "code",
   "execution_count": 15,
   "metadata": {},
   "outputs": [],
   "source": [
    "dataset = np.zeros((users,items))"
   ]
  },
  {
   "cell_type": "code",
   "execution_count": 24,
   "metadata": {},
   "outputs": [],
   "source": [
    "for i in range(len(trX)):\n",
    "    dataset[(trX[i,0])-1,(trX[i,1])-1] = trY[i]"
   ]
  },
  {
   "cell_type": "code",
   "execution_count": 25,
   "metadata": {},
   "outputs": [],
   "source": [
    "class pip:\n",
    "    def __init__(self,data):\n",
    "        self.data = data\n",
    "        self.r_max = np.max(data)\n",
    "        self.r_min = np.min(data)\n",
    "        self.r_range = self.r_max - self.r_min\n",
    "        self.r_med = (self.r_max+self.r_min)/2\n",
    "        self.agg = np.vectorize(self.agreement)\n",
    "        self.r_avg_items = np.mean(data,axis=0)\n",
    "        self.dist = np.vectorize(self.distance)\n",
    "        self.prox = np.vectorize(self.proximity)\n",
    "        self.pop = np.vectorize(self.popularity)\n",
    "        self.im = np.vectorize(self.impact)\n",
    "        self.sim()\n",
    "    def agreement(self,r1,r2):#to calculate the agreement between the two ratings \n",
    "        if (r1>self.r_med and r2>self.r_med) or (r1<self.r_med and r2<self.r_med):\n",
    "            return 1\n",
    "        else :\n",
    "            return 0\n",
    "    def distance(self,r1,r2,k): # to find the absolute difference in two ratings\n",
    "        if k:\n",
    "            return abs(r1-r2)\n",
    "        return abs(2*(r1-r2))\n",
    "    def proximity(self,r1,r2,d,k):\n",
    "        return( 2*(self.r_range)+1)-d**2\n",
    "    def impact(self,r1,r2,k): #how strong the affinity is of the user towards the item\n",
    "        if k:\n",
    "            return (abs(r1-self.r_med)+1)*(abs(r2-self.r_med)+1)\n",
    "        return 1/ ((abs(r1-self.r_med)+1)*(abs(r2-self.r_med)+1))\n",
    "    def popularity(self,r1,r2,r_avg_i,k):\n",
    "        if k :\n",
    "            return 1 + (((r1+r2)/2)-r_avg_i)**2\n",
    "        return 1\n",
    "    def PIP(self,u1,u2):\n",
    "        k = self.agg(u1,u2)\n",
    "        d = self.dist(u1,u2,k)\n",
    "        px = self.prox(u1,u2,d,k)\n",
    "        i = self.im(u1,u2,k)\n",
    "        pp = self.pop(u1,u2,self.r_avg_items,k)\n",
    "        return np.sum(px*i*pp)\n",
    "    def sim(self):\n",
    "        users = self.data.shape[0]\n",
    "        self.sim = np.zeros((users,users))\n",
    "        for i in range(users):\n",
    "            for j in range(i,users):\n",
    "                self.sim[i,j] = self.PIP(self.data[i,:],self.data[j,:])\n",
    "                self.sim[j,i] = self.sim[i,j]\n",
    "        \n"
   ]
  },
  {
   "cell_type": "code",
   "execution_count": 26,
   "metadata": {},
   "outputs": [],
   "source": [
    "class mpip:\n",
    "    def __init__(self,data):\n",
    "        self.data = data\n",
    "        self.median = np.median(data)\n",
    "        self.rmax = np.max(data)\n",
    "        self.rmin = np.min(data)\n",
    "        self.med_p = np.median(np.append(data[data>self.median],data[data>self.median]))\n",
    "        self.med_m = np.median(np.append(data[data<self.median],data[data<self.median]))\n",
    "        self.r_avg_items = np.mean(data,axis=0)\n",
    "        self.dist = np.vectorize(self.distance)\n",
    "        self.prox = np.vectorize(self.proximity)\n",
    "        self.pop = np.vectorize(self.popularity)\n",
    "        self.im = np.vectorize(self.impact)\n",
    "        self.agg = np.vectorize(self.agreement)\n",
    "        self.r_med = (self.rmax+self.rmin)/2\n",
    "        self.sim()\n",
    "    def agreement(self,r1,r2):\n",
    "        if (r1>self.r_med and r2>self.r_med) or (r1<self.r_med and r2<self.r_med):\n",
    "            return 1\n",
    "        else :\n",
    "            return 0\n",
    "    def distance(self,r1,r2):\n",
    "        return abs(r1-r2)\n",
    "    def proximity(self,k,d):\n",
    "        if k:\n",
    "            return ((d - ((self.med_m+self.med_p)/2))/(self.rmax-self.rmin))**2\n",
    "        elif d>self.median:\n",
    "            return 0.75 * (((1/d)/(self.rmax-self.rmin))**2)\n",
    "        elif d ==self.median:\n",
    "            return 0.5 * (((1/d)/(self.rmax-self.rmin))**2)\n",
    "        return 0.25 * (((1/d)/(self.rmax-self.rmin))**2)\n",
    "    def impact(self,r1,r2,k):\n",
    "        if k:\n",
    "            return math.e**-(1/ ((abs(r1-self.r_med)+1)*(abs(r2-self.r_med)+1)))\n",
    "        return 1/ ((abs(r1-self.r_med)+1)*(abs(r2-self.r_med)+1))\n",
    "    def popularity(self,r1,r2,k,rI):\n",
    "        if k:\n",
    "            return math.log10(2+(((r1+r2)/2)-rI)**2)\n",
    "        return 0.3010\n",
    "    def MPIP(self,u1,u2):\n",
    "        k = self.agg(u1,u2)\n",
    "        d = self.dist(u1,u2)\n",
    "        px = self.prox(k,d)\n",
    "        i = self.im(u1,u2,k)\n",
    "        pp = self.pop(u1,u2,k,self.r_avg_items)\n",
    "        return np.sum(px*i*pp)\n",
    "    def sim(self):\n",
    "        users = self.data.shape[0]\n",
    "        print(users)\n",
    "        self.sim = np.zeros((users,users))\n",
    "        for i in range(users):\n",
    "            for j in range(i,users):\n",
    "                self.sim[i,j] = self.MPIP(self.data[i],self.data[j])\n",
    "                self.sim[j,i] = self.sim[i,j]"
   ]
  },
  {
   "cell_type": "code",
   "execution_count": 27,
   "metadata": {},
   "outputs": [],
   "source": [
    "class Cosine:\n",
    "    def __init__(self,data):\n",
    "        self.sim = 1- pairwise_distances(data,metric=\"cosine\")\n",
    "class Jaccard:\n",
    "    def __init__(self,data):\n",
    "        self.sim = np.zeros([data.shape[0],data.shape[0]])\n",
    "        for i in range(data.shape[0]):\n",
    "            for j in range(i,data.shape[0]):\n",
    "                self.sim[i,j] = distance.jaccard(data[i],data[j])\n",
    "                self.sim[j,i] = self.sim[i,j]\n",
    "class pearson:\n",
    "    def __init__(self,data):\n",
    "        self.sim = np.zeros([data.shape[0],data.shape[0]])\n",
    "        for i in range(data.shape[0]):\n",
    "            for j in range(i,data.shape[0]):\n",
    "                r,p = stats.pearsonr(i,j)\n",
    "                self.sim[i,j] = r\n",
    "                self.sim[j,i] = self.sim[i,j]\n",
    "        "
   ]
  },
  {
   "cell_type": "code",
   "execution_count": 37,
   "metadata": {},
   "outputs": [],
   "source": [
    "class rating_pred:\n",
    "    def __init__(self,\n",
    "                    matrix,\n",
    "                    test,\n",
    "                    pip = 0,\n",
    "                    mpip = 0,\n",
    "                    cosine = 0,\n",
    "                    jaccard = 0,\n",
    "                    pearson = 0\n",
    "                    ):\n",
    "        self.test = test\n",
    "        self.matrix = matrix\n",
    "        self.items = matrix.shape[1]\n",
    "        self.pip = pip\n",
    "        self.mpip = mpip\n",
    "        self.cosine = cosine \n",
    "        self.jaccard = jaccard\n",
    "        self.pearson = pearson\n",
    "        self.pip_pred = []\n",
    "        self.mpip_pred = []\n",
    "        self.jaccard_pred = []\n",
    "        self.pearson_pred = []\n",
    "        \n",
    "    def PredRating(self,user,item,similarity):\n",
    "        try:\n",
    "            top = similarity[user].argsort()[1:100]\n",
    "        except IndexError:\n",
    "            sum,count = 0,0\n",
    "            for j in range(self.items):\n",
    "                if self.matrix[user,j] != 0:\n",
    "                    count+=1\n",
    "                    sum+=1\n",
    "            return sum/count\n",
    "        temp,avgUh,simi = [],[],[]\n",
    "        for i in top:\n",
    "            if self.matrix[i,item] !=0:\n",
    "                temp.append(i)\n",
    "                simi.append(similarity[user,i])\n",
    "        temp.append(user)\n",
    "        for i in temp:\n",
    "            sum,count = 0,0\n",
    "            for j in range(self.items):\n",
    "                if self.matrix[i,j] != 0:\n",
    "                    count+=1\n",
    "                    sum+=self.matrix[i,j]\n",
    "            avgUh.append(sum/count)\n",
    "        avgU = np.nan_to_num(np.array(avgUh.pop()))\n",
    "        temp.pop()\n",
    "        if len(temp)==0:\n",
    "            return avgU\n",
    "        simi = np.nan_to_num(np.array(simi))\n",
    "        num = (simi*(avgUh-avgU)).sum()\n",
    "        den = simi.sum()\n",
    "        # for i in range(len(temp)):\n",
    "        #     num+=similarity[user,temp[i]]*avgUh[i]\n",
    "        #     den+=similarity[user,temp[i]]\n",
    "        try:\n",
    "            result = (round((avgU+num/den),0))\n",
    "        except ZeroDivisionError:\n",
    "            result = 0\n",
    "        return result\n",
    "    def co(self):\n",
    "        l = []\n",
    "        for user in self.test:\n",
    "            l.append(self.PredRating(int(user[0])-1,int(user[1])-1,self.cosine))\n",
    "        self.cosine_pred = np.array(l)\n",
    "    def ja(self):\n",
    "        l = []\n",
    "        for user in self.test:\n",
    "            l.append(self.PredRating(int(user[0])-1,int(user[1])-1,self.jaccard))\n",
    "        self.jaccard_pred = np.array(l)\n",
    "    def pe(self):\n",
    "        l = []\n",
    "        for user in self.test:\n",
    "            l.append(self.PredRating(int(user[0])-1,int(user[1])-1,self.pearson))\n",
    "        self.pearson_pred = np.array(l)\n",
    "    def p(self):\n",
    "        l = []\n",
    "        for user in self.test:\n",
    "            l.append(self.PredRating(int(user[0])-1,int(user[1])-1,self.pip))\n",
    "        self.pip_pred = np.array(l)      \n",
    "    def mp(self):\n",
    "        l = []\n",
    "        for user in self.test:\n",
    "            l.append(self.PredRating(int(user[0])-1,int(user[1])-1,self.mpip))\n",
    "        self.mpip_pred = np.array(l)\n",
    "        "
   ]
  },
  {
   "cell_type": "code",
   "execution_count": 38,
   "metadata": {},
   "outputs": [],
   "source": [
    "test_dataset = np.concatenate((tX,np.array([tY]).T),axis=1)\n",
    "pip_obj = (pip(dataset))\n",
    "pip_obj.sim()\n",
    "pred_obj = rating_pred(dataset,test_dataset,pip_obj.sim)\n",
    "pred_obj.p()\n",
    "pd.DataFrame(pred_obj.pip_pred).to_csv(\"../../results/ml-1M/pip.csv\")\n",
    "pip_obj = None\n",
    "pred_obj = None"
   ]
  },
  {
   "cell_type": "code",
   "execution_count": 33,
   "metadata": {},
   "outputs": [
    {
     "data": {
      "text/plain": [
       "array([[3707,   22,    4],\n",
       "       [2077, 2028,    4],\n",
       "       [ 509, 2502,    5],\n",
       "       ...,\n",
       "       [2902,   19,    5],\n",
       "       [1165, 2762,    5],\n",
       "       [  27,  898,    5]], dtype=int64)"
      ]
     },
     "execution_count": 33,
     "metadata": {},
     "output_type": "execute_result"
    }
   ],
   "source": [
    "mpip_obj = (mpip(dataset))\n",
    "mpip_obj.sim()\n",
    "pred_obj = rating_pred(dataset,test_dataset,mpip = mpip_obj.sim)\n",
    "pred_obj.mp()\n",
    "pd.DataFrame(pred_obj.mpip_pred).to_csv(\"../../results/ml-1M/mpip.csv\")\n",
    "mpip_obj = None\n",
    "pred_obj = None"
   ]
  },
  {
   "cell_type": "code",
   "execution_count": null,
   "metadata": {},
   "outputs": [],
   "source": [
    "cosine_obj = (Cosine(dataset))\n",
    "cosine_obj.sim()\n",
    "pred_obj = rating_pred(dataset,test_dataset,cosine = cosine_obj.sim)\n",
    "pred_obj.co()\n",
    "pd.DataFrame(pred_obj.mpip_pred).to_csv(\"../../results/ml-1M/cosine.csv\")\n",
    "cosine_obj = None\n",
    "pred_obj = None\n"
   ]
  },
  {
   "cell_type": "code",
   "execution_count": null,
   "metadata": {},
   "outputs": [],
   "source": [
    "jaccard_obj = (Jaccard(dataset))\n",
    "jaccard_obj.sim()\n",
    "pred_obj = rating_pred(dataset,test_dataset,jaccard = jaccard_obj.sim)\n",
    "pred_obj.ja()\n",
    "pd.DataFrame(pred_obj.mpip_pred).to_csv(\"../../results/ml-1M/jaccard.csv\")\n",
    "jaccard_obj = None\n",
    "pred_obj = None\n"
   ]
  },
  {
   "cell_type": "code",
   "execution_count": null,
   "metadata": {},
   "outputs": [],
   "source": [
    "pearson_obj = (pearson(dataset))\n",
    "pearson.sim()\n",
    "pred_obj = rating_pred(dataset,test_dataset,pearson = pearson.sim)\n",
    "pred_obj.pe()\n",
    "pd.DataFrame(pred_obj.mpip_pred).to_csv(\"../../results/ml-1M/pearson.csv\")\n",
    "pearson = None\n",
    "pred_obj = None"
   ]
  }
 ],
 "metadata": {
  "interpreter": {
   "hash": "3de2d02b11921545bf1816bc45552ddc366ed99bb60e73ad62fb9cbd6f53e5b0"
  },
  "kernelspec": {
   "display_name": "Python 3.9.7 ('base')",
   "language": "python",
   "name": "python3"
  },
  "language_info": {
   "codemirror_mode": {
    "name": "ipython",
    "version": 3
   },
   "file_extension": ".py",
   "mimetype": "text/x-python",
   "name": "python",
   "nbconvert_exporter": "python",
   "pygments_lexer": "ipython3",
   "version": "3.9.7"
  },
  "orig_nbformat": 4
 },
 "nbformat": 4,
 "nbformat_minor": 2
}
