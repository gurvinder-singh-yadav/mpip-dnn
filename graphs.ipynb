{
 "cells": [
  {
   "cell_type": "code",
   "execution_count": 8,
   "metadata": {},
   "outputs": [],
   "source": [
    "# import numpy as np\n",
    "# import pandas as pd\n",
    "# import matplotlib.pyplot as plt\n",
    "# import seaborn as sns\n",
    "# from sklearn.metrics import mean_squared_error,precision_score,f1_score,recall_score\n",
    "# from sklearn.preprocessing import MinMaxScaler \n"
   ]
  },
  {
   "cell_type": "code",
   "execution_count": 9,
   "metadata": {},
   "outputs": [],
   "source": [
    "# jester = pd.read_csv(\"jester/ratings.csv\")\n",
    "# movielens = pd.read_csv(\"ml-1M/ratings.csv\")"
   ]
  },
  {
   "cell_type": "code",
   "execution_count": 10,
   "metadata": {},
   "outputs": [],
   "source": [
    "# jester.columns\n",
    "# col = ['pip', 'mpip', 'cosine',\"jaccard\", 'pearson', 'mpip-scaled']"
   ]
  },
  {
   "cell_type": "code",
   "execution_count": 11,
   "metadata": {},
   "outputs": [],
   "source": [
    "\n",
    "\n",
    "# jester  = jester.fillna(0)\n",
    "# jester = jester[jester[\"Actual\"]<10].to_numpy()\n",
    "\n",
    "# movielens = movielens.fillna(0)\n",
    "# movielens = movielens[movielens[\"Actual\"]<5].to_numpy()\n"
   ]
  },
  {
   "cell_type": "code",
   "execution_count": 12,
   "metadata": {},
   "outputs": [],
   "source": [
    "# x = [\"PIP\",\"MPIP\",\"Cosine\",\"Jaccard\",\"Pearson\",\"MPIP scaled\"]\n",
    "# jester = jester.T\n",
    "# rmse = [(mean_squared_error(jester[0],jester[i],squared=False)) for i in range(1,jester.shape[0])]"
   ]
  },
  {
   "cell_type": "code",
   "execution_count": 13,
   "metadata": {},
   "outputs": [],
   "source": [
    "# # y = np.array(rmse)\n",
    "# x = np.array(x)"
   ]
  },
  {
   "cell_type": "code",
   "execution_count": 14,
   "metadata": {},
   "outputs": [],
   "source": [
    "# plt.bar(x,y)\n",
    "# plt.grid(axis='y',zorder=0)\n",
    "# plt.title(\"Root Mean Squared Error\")\n",
    "# plt.show()"
   ]
  },
  {
   "cell_type": "code",
   "execution_count": 15,
   "metadata": {},
   "outputs": [],
   "source": [
    "# mae = y**2\n",
    "# # plt.bar(x,y**2)\n",
    "# plt.grid(axis='y',zorder=0)\n",
    "# plt.title(\"Mean Squared Error\")\n",
    "# plt.show()"
   ]
  },
  {
   "cell_type": "code",
   "execution_count": 16,
   "metadata": {},
   "outputs": [],
   "source": [
    "# y = np.array([precision_score( jester[0].astype(int),jester[i].astype(int),average=\"weighted\") for i in range(1,jester.shape[0])])\n",
    "# precision = y\n",
    "# plt.bar(x.reshape(-1),y.reshape(-1))\n",
    "# # plt.grid(axis='y',zorder=0)\n",
    "# plt.title(\"Precision\")\n",
    "# plt.show()"
   ]
  },
  {
   "cell_type": "code",
   "execution_count": 17,
   "metadata": {},
   "outputs": [],
   "source": [
    "# y = np.array([ f1_score( jester[0].astype(int),jester[i].astype(int),average=\"weighted\") for i in range(1,jester.shape[0])])\n",
    "# f1 = y \n",
    "# plt.bar(x.reshape(-1),y.reshape(-1))\n",
    "# plt.grid(axis='y',zorder=0)\n",
    "# plt.title(\"Accuracy\")\n",
    "# plt.show()"
   ]
  },
  {
   "cell_type": "code",
   "execution_count": 18,
   "metadata": {},
   "outputs": [],
   "source": [
    "# y = np.array([ recall_score( jester[0].astype(int),jester[i].astype(int),average=\"weighted\") for i in range(1,jester.shape[0])])\n",
    "# recall = y\n",
    "# plt.bar(x.reshape(-1),y.reshape(-1))\n",
    "# plt.grid(axis='y',zorder=0)\n",
    "# plt.title(\"Recall\")\n",
    "# plt.show()"
   ]
  },
  {
   "cell_type": "code",
   "execution_count": 19,
   "metadata": {},
   "outputs": [],
   "source": [
    "# pd.DataFrame({\"RMSE\":rmse,\"MAE\":mae,\"Precision\":precision,\"Recall\":recall,\"F1-Score\":f1,}).to_csv(\"jester/evaluation metrics.csv\",index=False)"
   ]
  },
  {
   "cell_type": "code",
   "execution_count": 20,
   "metadata": {},
   "outputs": [],
   "source": [
    "# movielens = movielens.T"
   ]
  },
  {
   "cell_type": "code",
   "execution_count": 21,
   "metadata": {},
   "outputs": [],
   "source": [
    "# y = np.array([(mean_squared_error(movielens[0],movielens[i],squared=False)) for i in range(1,movielens.shape[0])])\n",
    "# rmse = y"
   ]
  },
  {
   "cell_type": "code",
   "execution_count": 22,
   "metadata": {},
   "outputs": [],
   "source": [
    "# plt.bar(x.reshape(-1),y.reshape(-1))\n",
    "# plt.grid(axis='y',zorder=0)\n",
    "# plt.title(\"Root Mean Squared Error\")\n",
    "# plt.show()"
   ]
  },
  {
   "cell_type": "code",
   "execution_count": 23,
   "metadata": {},
   "outputs": [],
   "source": [
    "# mae = y.reshape(-1)**2\n",
    "# plt.bar(x.reshape(-1),y.reshape(-1)**2)\n",
    "# plt.grid(axis='y',zorder=0)\n",
    "# plt.title(\"Mean Squared Error\")\n",
    "# plt.show()"
   ]
  },
  {
   "cell_type": "code",
   "execution_count": 24,
   "metadata": {},
   "outputs": [],
   "source": [
    "# y = np.array([precision_score( movielens[0].astype(int),movielens[i].astype(int),average=\"weighted\") for i in range(1,movielens.shape[0])])\n",
    "# precision = y\n",
    "# plt.bar(x.reshape(-1),y.reshape(-1))\n",
    "# plt.grid(axis='y',zorder=0)\n",
    "# plt.title(\"Precision\")\n",
    "# plt.show()"
   ]
  },
  {
   "cell_type": "code",
   "execution_count": 25,
   "metadata": {},
   "outputs": [],
   "source": [
    "# y = np.array([ f1_score( movielens[0].astype(int),movielens[i].astype(int),average=\"weighted\") for i in range(1,movielens.shape[0])])\n",
    "# f1 = y\n",
    "# plt.bar(x.reshape(-1),y.reshape(-1))\n",
    "# plt.grid(axis='y',zorder=0)\n",
    "# plt.title(\"Accuracy\")\n",
    "# plt.show()"
   ]
  },
  {
   "cell_type": "code",
   "execution_count": 26,
   "metadata": {},
   "outputs": [],
   "source": [
    "# y = np.array([ recall_score( jester[0].astype(int),jester[i].astype(int),average=\"weighted\") for i in range(1,jester.shape[0])])\n",
    "# recall = y\n",
    "# plt.bar(x.reshape(-1),y.reshape(-1))\n",
    "# plt.grid(axis='y',zorder=0)\n",
    "# plt.title(\"Recall\")\n",
    "# plt.show()"
   ]
  },
  {
   "cell_type": "code",
   "execution_count": 27,
   "metadata": {},
   "outputs": [],
   "source": [
    "# pd.DataFrame({\"RMSE\":rmse,\"MAE\":mae,\"Precision\":precision,\"Recall\":recall,\"F1-Score\":f1,}).to_csv(\"ml-1M/evaluation metrics.csv\",index=False)"
   ]
  },
  {
   "cell_type": "code",
   "execution_count": null,
   "metadata": {},
   "outputs": [],
   "source": []
  }
 ],
 "metadata": {
  "interpreter": {
   "hash": "4c019871d357974b5077eb324d894f8aefd5d4b9fde13521ce18e447921dcee5"
  },
  "kernelspec": {
   "display_name": "Python 3.9.7 64-bit ('base': conda)",
   "language": "python",
   "name": "python3"
  },
  "language_info": {
   "codemirror_mode": {
    "name": "ipython",
    "version": 3
   },
   "file_extension": ".py",
   "mimetype": "text/x-python",
   "name": "python",
   "nbconvert_exporter": "python",
   "pygments_lexer": "ipython3",
   "version": "3.9.7"
  },
  "orig_nbformat": 4
 },
 "nbformat": 4,
 "nbformat_minor": 2
}
